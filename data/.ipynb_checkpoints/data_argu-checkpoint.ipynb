{
 "cells": [
  {
   "cell_type": "code",
   "execution_count": null,
   "id": "8f64b6e2",
   "metadata": {},
   "outputs": [],
   "source": [
    "import os\n",
    "import numpy as np\n",
    "from PIL import Image\n",
    "\n",
    "def crop(img, size, pos):\n",
    "    ow, oh = img.size\n",
    "    tw, th = size\n",
    "    x1, y1 = pos        \n",
    "    if (ow > tw or oh > th):        \n",
    "        return img.crop((x1, y1, min(ow, x1 + tw), min(oh, y1 + th)))\n",
    "    return img\n",
    "img_path = \"test.png\"\n"
   ]
  }
 ],
 "metadata": {
  "kernelspec": {
   "display_name": "Python 3",
   "language": "python",
   "name": "python3"
  },
  "language_info": {
   "codemirror_mode": {
    "name": "ipython",
    "version": 3
   },
   "file_extension": ".py",
   "mimetype": "text/x-python",
   "name": "python",
   "nbconvert_exporter": "python",
   "pygments_lexer": "ipython3",
   "version": "3.8.8"
  }
 },
 "nbformat": 4,
 "nbformat_minor": 5
}
